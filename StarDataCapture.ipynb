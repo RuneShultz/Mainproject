{
 "cells": [
  {
   "cell_type": "code",
   "execution_count": null,
   "id": "d35ad46e",
   "metadata": {},
   "outputs": [],
   "source": [
    "import numpy as np\n",
    "from astropy.io import fits\n",
    "from astropy.utils.data import download_file\n",
    "import matplotlib.pyplot as plt\n",
    "%matplotlib inline\n",
    "import matplotlib.colors as colors\n",
    "from math import sqrt"
   ]
  },
  {
   "cell_type": "code",
   "execution_count": 1,
   "id": "e7f7fda6",
   "metadata": {},
   "outputs": [
    {
     "ename": "SyntaxError",
     "evalue": "invalid syntax. Perhaps you forgot a comma? (1009950178.py, line 2)",
     "output_type": "error",
     "traceback": [
      "\u001b[0;36m  Cell \u001b[0;32mIn[1], line 2\u001b[0;36m\u001b[0m\n\u001b[0;31m    hdu_list = fits.open(unzipped fits image)\u001b[0m\n\u001b[0m                         ^\u001b[0m\n\u001b[0;31mSyntaxError\u001b[0m\u001b[0;31m:\u001b[0m invalid syntax. Perhaps you forgot a comma?\n"
     ]
    }
   ],
   "source": [
    "image_file = download_file('fits image url')\n",
    "hdu_list = fits.open(unzipped fits image)"
   ]
  },
  {
   "cell_type": "code",
   "execution_count": null,
   "id": "106d6c5a",
   "metadata": {},
   "outputs": [],
   "source": [
    "#run these two lines of code, whichever have NAXIS of two assign that varriable to NAXIS\n",
    "hdu_list[0].header\n",
    "hdu_list[1].header"
   ]
  },
  {
   "cell_type": "code",
   "execution_count": null,
   "id": "4c44f751",
   "metadata": {},
   "outputs": [],
   "source": [
    "NAXIS = "
   ]
  },
  {
   "cell_type": "code",
   "execution_count": null,
   "id": "f463e2d3",
   "metadata": {},
   "outputs": [],
   "source": [
    "hdu_list[NAXIS].data"
   ]
  },
  {
   "cell_type": "code",
   "execution_count": null,
   "id": "ea76af7a",
   "metadata": {},
   "outputs": [],
   "source": [
    "#To see your image on a plot\n",
    "plt.figure\n",
    "plt.imshow(hdu_list[NAXIS].data)\n",
    "plt.colorbar()"
   ]
  },
  {
   "cell_type": "code",
   "execution_count": null,
   "id": "0de94cc8",
   "metadata": {},
   "outputs": [],
   "source": [
    "#To see pixels with lower contrast easier\n",
    "plt.figure\n",
    "plt.imshow(hdu_list[NAXIS].data,norm=colors.LogNorm(),cmap='jet')\n",
    "plt.colorbar()"
   ]
  },
  {
   "cell_type": "code",
   "execution_count": null,
   "id": "d51ae7e0",
   "metadata": {},
   "outputs": [],
   "source": [
    "myrow = hdu_list[NAXIS].data[y, x range]#the x range should be 10 before and 10 after the point\n",
    "print(myrow.shape, len(myrow))\n",
    "plt.bar(np.arange(20), myrow)\n",
    "#the spike should show the star, count how many pixels are along the spike, chose your radius and assign it to star_radius"
   ]
  },
  {
   "cell_type": "code",
   "execution_count": null,
   "id": "0dd5668e",
   "metadata": {},
   "outputs": [],
   "source": [
    "star_radius = "
   ]
  },
  {
   "cell_type": "code",
   "execution_count": null,
   "id": "c3d829b2",
   "metadata": {},
   "outputs": [],
   "source": [
    "def calc_brightness(img, center, r):\n",
    "    x, y = center\n",
    "    star_region = img[x - r:x + r + 1, y - r:y + r + 1]\n",
    "    circle_sum = 0\n",
    "    n_pixels_used = 0\n",
    "    for i in range(x-r, x+r+1):\n",
    "        for j in range(y-r, y+r+1):\n",
    "            if (i-x)**2 + (j-y)**2 <= r**2:\n",
    "                circle_sum += img[i, j]\n",
    "                n_pixels_used += 1\n",
    "    circle_avg = circle_sum / n_pixels_used\n",
    "    return circle_avg"
   ]
  },
  {
   "cell_type": "code",
   "execution_count": null,
   "id": "84f357d7",
   "metadata": {},
   "outputs": [],
   "source": [
    "#by looking at the image, assume the minimum amount of pixels between stars(this way, a single star isnt being counted multiple times)\n",
    "minimum_between_stars = \n",
    "def star_count(image, threshold):\n",
    "    n_stars = 0\n",
    "    star_list = []\n",
    "    for x in range(5, image.shape[0]-15, 1):\n",
    "        for y in range(5, image.shape[1]-15, 1):\n",
    "            star = calc_brightness(hdu_list[NAXIS].data, (x,y), star_radius)\n",
    "            L = img[x-square_offset:x-radius, y-radius:y+square_offset]\n",
    "            R = img[x+radius:x+square_offset, y-square_offset:y+radius]\n",
    "            U = img[x-radius:x+square_offset, y+radius:y+square_offset]\n",
    "            D = img[x-square_offset:x+radius, y-square_offset:y-radius]\n",
    "\n",
    "            star_total = np.sum(star)\n",
    "            L_total = np.sum(L)\n",
    "            R_total = np.sum(R)\n",
    "            U_total = np.sum(U)\n",
    "            D_total = np.sum(D)\n",
    "            \n",
    "            total = L_total+R_total+U_total+D_total\n",
    "            total_pixels = (len(L.flatten())\n",
    "                            + len(R.flatten())\n",
    "                            + len(U.flatten())\n",
    "                            + len(D.flatten()))\n",
    "\n",
    "            star_mean = star_total/len(star.flatten())\n",
    "            back_mean = total/total_pixels\n",
    "            ratio = star_mean/back_mean\n",
    "            if ratio >= threshold:\n",
    "                n_stars += 1\n",
    "                if star_is_unique(star_list, (x, y), minimum_between_stars):\n",
    "                    print('CANDIDATE:',\n",
    "                          x, y, star_mean, back_mean, ratio)\n",
    "                    print('    CONFIRMED')\n",
    "                    star_list.append((x, y))\n",
    "                else:\n",
    "                    pass\n",
    "    return star_list"
   ]
  },
  {
   "cell_type": "code",
   "execution_count": null,
   "id": "e6738f0d",
   "metadata": {},
   "outputs": [],
   "source": [
    "def star_is_unique(star_list, center, avoidance_r):\n",
    "    for star in star_list:\n",
    "        if sqrt((star[0] - center[0])**2 + (star[1] - center[1])**2) <= avoidance_r:\n",
    "            return False\n",
    "    return True"
   ]
  },
  {
   "cell_type": "code",
   "execution_count": null,
   "id": "80c7b717",
   "metadata": {},
   "outputs": [],
   "source": [
    "#look at a dim star in your image and, according to the colorbar, divide the general brightness of that star by the general brightness of the background around it\n",
    "star_background_ratio = \n",
    "star_list = star_count(my_img, star_background_ratio)\n",
    "\n",
    "print(star_list)\n",
    "print('n_stars:', len(star_list))\n",
    "\n",
    "xvals = [star[0] for star in star_list]\n",
    "yvals = [star[1] for star in star_list]\n",
    "\n",
    "plt.axes().set_aspect('equal')\n",
    "plt.imshow(my_img)\n",
    "plt.scatter(yvals, xvals, color='red', alpha=.5)\n",
    "plt.show()"
   ]
  }
 ],
 "metadata": {
  "kernelspec": {
   "display_name": "Python 3 (ipykernel)",
   "language": "python",
   "name": "python3"
  },
  "language_info": {
   "codemirror_mode": {
    "name": "ipython",
    "version": 3
   },
   "file_extension": ".py",
   "mimetype": "text/x-python",
   "name": "python",
   "nbconvert_exporter": "python",
   "pygments_lexer": "ipython3",
   "version": "3.10.12"
  }
 },
 "nbformat": 4,
 "nbformat_minor": 5
}
